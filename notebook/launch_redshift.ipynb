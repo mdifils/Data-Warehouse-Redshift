{
 "cells": [
  {
   "cell_type": "code",
   "execution_count": 1,
   "id": "7cd9f6ed-6e24-4438-b291-85cfb6cec5ab",
   "metadata": {},
   "outputs": [],
   "source": [
    "import json\n",
    "import boto3\n",
    "import pandas as pd\n",
    "from getpass import getpass\n",
    "from configparser import ConfigParser"
   ]
  },
  {
   "cell_type": "markdown",
   "id": "0932ed0a-815e-4685-832b-bac82aa80ea8",
   "metadata": {},
   "source": [
    "# Loading Params from a config file"
   ]
  },
  {
   "cell_type": "code",
   "execution_count": 2,
   "id": "1e4beb84-1a12-4f48-83ac-8376b06dd3f1",
   "metadata": {},
   "outputs": [
    {
     "name": "stdout",
     "output_type": "stream",
     "text": [
      "Enter your ACCESS KEY: \n"
     ]
    },
    {
     "name": "stdin",
     "output_type": "stream",
     "text": [
      " ····················\n"
     ]
    },
    {
     "name": "stdout",
     "output_type": "stream",
     "text": [
      "Enter your SECRET KEY: \n"
     ]
    },
    {
     "name": "stdin",
     "output_type": "stream",
     "text": [
      " ········································\n"
     ]
    },
    {
     "data": {
      "text/html": [
       "<div>\n",
       "<style scoped>\n",
       "    .dataframe tbody tr th:only-of-type {\n",
       "        vertical-align: middle;\n",
       "    }\n",
       "\n",
       "    .dataframe tbody tr th {\n",
       "        vertical-align: top;\n",
       "    }\n",
       "\n",
       "    .dataframe thead th {\n",
       "        text-align: right;\n",
       "    }\n",
       "</style>\n",
       "<table border=\"1\" class=\"dataframe\">\n",
       "  <thead>\n",
       "    <tr style=\"text-align: right;\">\n",
       "      <th></th>\n",
       "      <th>Param</th>\n",
       "      <th>Value</th>\n",
       "    </tr>\n",
       "  </thead>\n",
       "  <tbody>\n",
       "    <tr>\n",
       "      <th>0</th>\n",
       "      <td>CLUSTER_IDENTIFIER</td>\n",
       "      <td>redshiftCluster</td>\n",
       "    </tr>\n",
       "    <tr>\n",
       "      <th>1</th>\n",
       "      <td>CLUSTER_TYPE</td>\n",
       "      <td>multi-node</td>\n",
       "    </tr>\n",
       "    <tr>\n",
       "      <th>2</th>\n",
       "      <td>NUM_NODES</td>\n",
       "      <td>4</td>\n",
       "    </tr>\n",
       "    <tr>\n",
       "      <th>3</th>\n",
       "      <td>NODE_TYPE</td>\n",
       "      <td>dc2.large</td>\n",
       "    </tr>\n",
       "    <tr>\n",
       "      <th>4</th>\n",
       "      <td>DB_NAME</td>\n",
       "      <td>redshiftdb</td>\n",
       "    </tr>\n",
       "    <tr>\n",
       "      <th>5</th>\n",
       "      <td>DB_USER</td>\n",
       "      <td>redshiftuser</td>\n",
       "    </tr>\n",
       "    <tr>\n",
       "      <th>6</th>\n",
       "      <td>DB_PASSWORD</td>\n",
       "      <td>Passw0rd</td>\n",
       "    </tr>\n",
       "    <tr>\n",
       "      <th>7</th>\n",
       "      <td>DB_PORT</td>\n",
       "      <td>5439</td>\n",
       "    </tr>\n",
       "    <tr>\n",
       "      <th>8</th>\n",
       "      <td>IAM_ROLE_NAME</td>\n",
       "      <td>redshiftRole</td>\n",
       "    </tr>\n",
       "  </tbody>\n",
       "</table>\n",
       "</div>"
      ],
      "text/plain": [
       "                Param            Value\n",
       "0  CLUSTER_IDENTIFIER  redshiftCluster\n",
       "1        CLUSTER_TYPE       multi-node\n",
       "2           NUM_NODES                4\n",
       "3           NODE_TYPE        dc2.large\n",
       "4             DB_NAME       redshiftdb\n",
       "5             DB_USER     redshiftuser\n",
       "6         DB_PASSWORD         Passw0rd\n",
       "7             DB_PORT             5439\n",
       "8       IAM_ROLE_NAME     redshiftRole"
      ]
     },
     "execution_count": 2,
     "metadata": {},
     "output_type": "execute_result"
    }
   ],
   "source": [
    "config = ConfigParser()\n",
    "config.read_file(open('dwh.cfg'))\n",
    "\n",
    "# CREDENTIALS\n",
    "print(\"Enter your ACCESS KEY: \")\n",
    "KEY                = getpass()\n",
    "print(\"Enter your SECRET KEY: \")\n",
    "SECRET             = getpass()\n",
    "\n",
    "# REDSHIFT CLUSTER\n",
    "CLUSTER_IDENTIFIER = config[\"CLUSTER\"][\"CLUSTER_IDENTIFIER\"]\n",
    "CLUSTER_TYPE       = config[\"CLUSTER\"][\"CLUSTER_TYPE\"]\n",
    "NUM_NODES          = config[\"CLUSTER\"][\"NUM_NODES\"]\n",
    "NODE_TYPE          = config[\"CLUSTER\"][\"NODE_TYPE\"]\n",
    "\n",
    "# DATABASE INFOS\n",
    "DB_NAME            = config[\"DATABASE\"][\"DB_NAME\"]\n",
    "DB_USER            = config[\"DATABASE\"][\"DB_USER\"]\n",
    "DB_PASSWORD        = config[\"DATABASE\"][\"DB_PASSWORD\"]\n",
    "DB_PORT            = config[\"DATABASE\"][\"DB_PORT\"]\n",
    "\n",
    "# IAM ROLE\n",
    "IAM_ROLE_NAME      = config[\"IAM_ROLE\"][\"NAME\"]\n",
    "\n",
    "# REGION\n",
    "REGION             = config[\"REGION\"][\"NAME\"]\n",
    "\n",
    "pd.DataFrame({\n",
    "    \"Param\": [\n",
    "        \"CLUSTER_IDENTIFIER\",\n",
    "        \"CLUSTER_TYPE\",\n",
    "        \"NUM_NODES\",\n",
    "        \"NODE_TYPE\",\n",
    "        \"DB_NAME\",\n",
    "        \"DB_USER\",\n",
    "        \"DB_PASSWORD\",\n",
    "        \"DB_PORT\",\n",
    "        \"IAM_ROLE_NAME\"\n",
    "    ],\n",
    "    \"Value\": [\n",
    "        CLUSTER_IDENTIFIER,\n",
    "        CLUSTER_TYPE, \n",
    "        NUM_NODES, \n",
    "        NODE_TYPE,  \n",
    "        DB_NAME, \n",
    "        DB_USER, \n",
    "        DB_PASSWORD, \n",
    "        DB_PORT, \n",
    "        IAM_ROLE_NAME\n",
    "    ]\n",
    "})"
   ]
  },
  {
   "cell_type": "markdown",
   "id": "9c7ea5be-abb9-40c2-a5fb-02cf2e05f90e",
   "metadata": {},
   "source": [
    "# Create connections for IAM, EC2, S3 and Redshift"
   ]
  },
  {
   "cell_type": "code",
   "execution_count": 3,
   "id": "dda8b1b6-e74a-4bcf-af65-7632e0924f57",
   "metadata": {},
   "outputs": [],
   "source": [
    "ec2 = boto3.resource('ec2',\n",
    "                     region_name=REGION,\n",
    "                     aws_access_key_id=KEY,\n",
    "                     aws_secret_access_key=SECRET\n",
    "                    )\n",
    "\n",
    "s3 = boto3.resource('s3',\n",
    "                    region_name=REGION,\n",
    "                    aws_access_key_id=KEY,\n",
    "                    aws_secret_access_key=SECRET\n",
    "                   )\n",
    "\n",
    "iam = boto3.client('iam',\n",
    "                   region_name=REGION,\n",
    "                   aws_access_key_id=KEY,\n",
    "                   aws_secret_access_key=SECRET\n",
    "                  )\n",
    "\n",
    "redshift = boto3.client('redshift',\n",
    "                        region_name=REGION,\n",
    "                        aws_access_key_id=KEY,\n",
    "                        aws_secret_access_key=SECRET\n",
    "                       )"
   ]
  },
  {
   "cell_type": "markdown",
   "id": "7183ae7c-9a8b-4916-b472-e1b3e135c37c",
   "metadata": {},
   "source": [
    "# Create IAM Role"
   ]
  },
  {
   "cell_type": "code",
   "execution_count": 4,
   "id": "a085ab64-9261-4f08-a85d-5fd72c937ff2",
   "metadata": {},
   "outputs": [
    {
     "name": "stdout",
     "output_type": "stream",
     "text": [
      "redshiftRole has been created successfully\n",
      "\n",
      "IAM ROLE ARN:  arn:aws:iam::564727721921:role/redshiftRole\n",
      "\n",
      "Policy has been successfully attached to redshiftRole\n"
     ]
    }
   ],
   "source": [
    "try:\n",
    "    # Creating a new IAM Role\n",
    "    roleResponse = iam.create_role(\n",
    "        Path='/',\n",
    "        RoleName=IAM_ROLE_NAME,\n",
    "        Description=\"Allows Redshift clusters to call AWS services on your behalf.\",\n",
    "        AssumeRolePolicyDocument=json.dumps({\n",
    "            'Statement': [{\n",
    "                'Action': 'sts:AssumeRole',\n",
    "                'Effect': 'Allow',\n",
    "                'Principal': {'Service': 'redshift.amazonaws.com'}\n",
    "            }],\n",
    "            'Version': '2012-10-17'\n",
    "        })\n",
    "    )\n",
    "    \n",
    "    if roleResponse['ResponseMetadata']['HTTPStatusCode'] == 200:\n",
    "        print(f'{IAM_ROLE_NAME} has been created successfully')\n",
    "        \n",
    "        # Get the IAM role ARN\n",
    "        IAM_ROLE_ARN = roleResponse['Role']['Arn']\n",
    "        print('\\nIAM ROLE ARN: ', IAM_ROLE_ARN)\n",
    "    \n",
    "except Exception as e:\n",
    "    print(e)\n",
    "\n",
    "try:\n",
    "    # Attaching policy to IAM ROLE\n",
    "    policyResponse = iam.attach_role_policy(\n",
    "        RoleName=IAM_ROLE_NAME,\n",
    "        PolicyArn=\"arn:aws:iam::aws:policy/AmazonS3ReadOnlyAccess\"\n",
    "    )\n",
    "    \n",
    "    if policyResponse['ResponseMetadata']['HTTPStatusCode'] == 200:\n",
    "        print(f'\\nPolicy has been successfully attached to {IAM_ROLE_NAME}')\n",
    "\n",
    "except Exception as e:\n",
    "    print(e)"
   ]
  },
  {
   "cell_type": "markdown",
   "id": "388a0492-bb77-476a-bc44-f7e280f6af45",
   "metadata": {},
   "source": [
    "# Create Redshift Cluster"
   ]
  },
  {
   "cell_type": "code",
   "execution_count": 5,
   "id": "1e1fbd81-a96e-4c60-ae7b-4c70aac89a23",
   "metadata": {},
   "outputs": [
    {
     "name": "stdout",
     "output_type": "stream",
     "text": [
      "redshiftCluster has been created successfully\n"
     ]
    }
   ],
   "source": [
    "try:\n",
    "    response = redshift.create_cluster(        \n",
    "        #HW\n",
    "        ClusterType=CLUSTER_TYPE,\n",
    "        NodeType=NODE_TYPE,\n",
    "        NumberOfNodes=int(NUM_NODES),\n",
    "\n",
    "        #Identifiers & Credentials\n",
    "        DBName=DB_NAME,\n",
    "        ClusterIdentifier=CLUSTER_IDENTIFIER,\n",
    "        MasterUsername=DB_USER,\n",
    "        MasterUserPassword=DB_PASSWORD,\n",
    "        \n",
    "        #Roles (for s3 access)\n",
    "        IamRoles=[IAM_ROLE_ARN]  \n",
    "    )\n",
    "    \n",
    "    if response['ResponseMetadata']['HTTPStatusCode'] == 200:\n",
    "        print(f'{CLUSTER_IDENTIFIER} has been created successfully')\n",
    "        \n",
    "except Exception as e:\n",
    "    print(e)"
   ]
  },
  {
   "cell_type": "code",
   "execution_count": 6,
   "id": "a85874e0-4c19-4eed-9d66-05c06d35353c",
   "metadata": {},
   "outputs": [],
   "source": [
    "def prettyRedshiftProps(props):\n",
    "    pd.set_option('display.max_colwidth', None)\n",
    "    keysToShow = [\"ClusterIdentifier\", \"NodeType\", \"ClusterStatus\", \"MasterUsername\", \n",
    "                  \"DBName\", \"Endpoint\", \"IamRoles\", \"NumberOfNodes\", 'VpcId']\n",
    "    x = [(k, v) for k,v in props.items() if k in keysToShow]\n",
    "    return pd.DataFrame(data=x, columns=[\"Key\", \"Value\"])"
   ]
  },
  {
   "cell_type": "markdown",
   "id": "c3689184-90b4-47ea-9cec-18f1a19534a9",
   "metadata": {},
   "source": [
    "# Run cell below until the cluster is available then run the next cell\n",
    "This may take around 3 minutes"
   ]
  },
  {
   "cell_type": "code",
   "execution_count": 7,
   "id": "83b4ac31-20cf-44c3-917e-26b56255c0c0",
   "metadata": {},
   "outputs": [
    {
     "data": {
      "text/plain": [
       "'available'"
      ]
     },
     "execution_count": 7,
     "metadata": {},
     "output_type": "execute_result"
    }
   ],
   "source": [
    "cluster_status = redshift.describe_clusters(ClusterIdentifier=CLUSTER_IDENTIFIER)['Clusters'][0]['ClusterStatus']\n",
    "cluster_status"
   ]
  },
  {
   "cell_type": "markdown",
   "id": "460f1b6a-69af-433f-98c5-1b1e3e2ab8cd",
   "metadata": {},
   "source": [
    "# Check cluster details"
   ]
  },
  {
   "cell_type": "code",
   "execution_count": 8,
   "id": "528a9731-44f0-4b5b-98e2-aa5799e9023e",
   "metadata": {},
   "outputs": [
    {
     "data": {
      "text/html": [
       "<div>\n",
       "<style scoped>\n",
       "    .dataframe tbody tr th:only-of-type {\n",
       "        vertical-align: middle;\n",
       "    }\n",
       "\n",
       "    .dataframe tbody tr th {\n",
       "        vertical-align: top;\n",
       "    }\n",
       "\n",
       "    .dataframe thead th {\n",
       "        text-align: right;\n",
       "    }\n",
       "</style>\n",
       "<table border=\"1\" class=\"dataframe\">\n",
       "  <thead>\n",
       "    <tr style=\"text-align: right;\">\n",
       "      <th></th>\n",
       "      <th>Key</th>\n",
       "      <th>Value</th>\n",
       "    </tr>\n",
       "  </thead>\n",
       "  <tbody>\n",
       "    <tr>\n",
       "      <th>0</th>\n",
       "      <td>ClusterIdentifier</td>\n",
       "      <td>redshiftcluster</td>\n",
       "    </tr>\n",
       "    <tr>\n",
       "      <th>1</th>\n",
       "      <td>NodeType</td>\n",
       "      <td>dc2.large</td>\n",
       "    </tr>\n",
       "    <tr>\n",
       "      <th>2</th>\n",
       "      <td>ClusterStatus</td>\n",
       "      <td>available</td>\n",
       "    </tr>\n",
       "    <tr>\n",
       "      <th>3</th>\n",
       "      <td>MasterUsername</td>\n",
       "      <td>redshiftuser</td>\n",
       "    </tr>\n",
       "    <tr>\n",
       "      <th>4</th>\n",
       "      <td>DBName</td>\n",
       "      <td>redshiftdb</td>\n",
       "    </tr>\n",
       "    <tr>\n",
       "      <th>5</th>\n",
       "      <td>Endpoint</td>\n",
       "      <td>{'Address': 'redshiftcluster.crjn8bqxq38c.us-west-2.redshift.amazonaws.com', 'Port': 5439}</td>\n",
       "    </tr>\n",
       "    <tr>\n",
       "      <th>6</th>\n",
       "      <td>VpcId</td>\n",
       "      <td>vpc-06be3371c6557ac71</td>\n",
       "    </tr>\n",
       "    <tr>\n",
       "      <th>7</th>\n",
       "      <td>NumberOfNodes</td>\n",
       "      <td>4</td>\n",
       "    </tr>\n",
       "    <tr>\n",
       "      <th>8</th>\n",
       "      <td>IamRoles</td>\n",
       "      <td>[{'IamRoleArn': 'arn:aws:iam::564727721921:role/redshiftRole', 'ApplyStatus': 'in-sync'}]</td>\n",
       "    </tr>\n",
       "  </tbody>\n",
       "</table>\n",
       "</div>"
      ],
      "text/plain": [
       "                 Key  \\\n",
       "0  ClusterIdentifier   \n",
       "1           NodeType   \n",
       "2      ClusterStatus   \n",
       "3     MasterUsername   \n",
       "4             DBName   \n",
       "5           Endpoint   \n",
       "6              VpcId   \n",
       "7      NumberOfNodes   \n",
       "8           IamRoles   \n",
       "\n",
       "                                                                                        Value  \n",
       "0                                                                             redshiftcluster  \n",
       "1                                                                                   dc2.large  \n",
       "2                                                                                   available  \n",
       "3                                                                                redshiftuser  \n",
       "4                                                                                  redshiftdb  \n",
       "5  {'Address': 'redshiftcluster.crjn8bqxq38c.us-west-2.redshift.amazonaws.com', 'Port': 5439}  \n",
       "6                                                                       vpc-06be3371c6557ac71  \n",
       "7                                                                                           4  \n",
       "8   [{'IamRoleArn': 'arn:aws:iam::564727721921:role/redshiftRole', 'ApplyStatus': 'in-sync'}]  "
      ]
     },
     "execution_count": 8,
     "metadata": {},
     "output_type": "execute_result"
    }
   ],
   "source": [
    "myClusterProps = redshift.describe_clusters(ClusterIdentifier=CLUSTER_IDENTIFIER)['Clusters'][0]\n",
    "ENDPOINT = myClusterProps['Endpoint']['Address']\n",
    "prettyRedshiftProps(myClusterProps)"
   ]
  },
  {
   "cell_type": "markdown",
   "id": "5f863e5c-84ee-487a-b1b4-8222b58db6de",
   "metadata": {},
   "source": [
    "# Updating dwh.cfg file"
   ]
  },
  {
   "cell_type": "code",
   "execution_count": 9,
   "id": "50669c37-e367-410b-8fdf-fa978b02eae6",
   "metadata": {},
   "outputs": [],
   "source": [
    "# Get the IAM_ROLE section\n",
    "iamRole = config['IAM_ROLE']\n",
    "# Get database section\n",
    "database = config['DATABASE']\n",
    "\n",
    "# Update the ARN\n",
    "iamRole['ARN'] = IAM_ROLE_ARN\n",
    "# Update the HOST\n",
    "database['HOST'] = ENDPOINT\n",
    "\n",
    "# Write changes back to file\n",
    "with open('dwh.cfg', 'w') as editfile:\n",
    "    config.write(editfile)"
   ]
  },
  {
   "cell_type": "markdown",
   "id": "42dc733c-c841-4c3c-bd2a-be8547f09759",
   "metadata": {},
   "source": [
    "# Open an incoming  TCP port to access the cluster endpoint"
   ]
  },
  {
   "cell_type": "code",
   "execution_count": 10,
   "id": "58936c10-4849-4b39-85aa-60e7e7028eba",
   "metadata": {},
   "outputs": [],
   "source": [
    "try:\n",
    "    vpc = ec2.Vpc(id=myClusterProps['VpcId'])\n",
    "    defaultSg = list(vpc.security_groups.all())[0]\n",
    "    \n",
    "    defaultSg.authorize_ingress(\n",
    "        GroupName=defaultSg.group_name,\n",
    "        CidrIp='0.0.0.0/0',\n",
    "        IpProtocol='TCP',\n",
    "        FromPort=int(DB_PORT),\n",
    "        ToPort=int(DB_PORT)\n",
    "    )\n",
    "except Exception as e:\n",
    "    print(e)"
   ]
  },
  {
   "cell_type": "markdown",
   "id": "66fbeb34-4b72-46b8-8750-3ebad31a25d5",
   "metadata": {},
   "source": [
    "# Clean up your resources"
   ]
  },
  {
   "cell_type": "markdown",
   "id": "0e06aab8-344d-43be-a114-af2b4aae064c",
   "metadata": {},
   "source": [
    "## Delete redshift cluster\n",
    "Run cell below until the cluster is deleted. This may take few minutes."
   ]
  },
  {
   "cell_type": "code",
   "execution_count": 14,
   "id": "01607d5f-0343-4b4d-b1ca-329b2646cd38",
   "metadata": {},
   "outputs": [
    {
     "name": "stdout",
     "output_type": "stream",
     "text": [
      "The cluster was successfully deleted\n"
     ]
    }
   ],
   "source": [
    "try:\n",
    "    status = redshift.delete_cluster( ClusterIdentifier=CLUSTER_IDENTIFIER, SkipFinalClusterSnapshot=True)['Cluster']['ClusterStatus']\n",
    "    print(status)\n",
    "except:\n",
    "    print(\"The cluster was successfully deleted\")"
   ]
  },
  {
   "cell_type": "markdown",
   "id": "d97f52be-dea5-4725-b154-aec74d6997ab",
   "metadata": {},
   "source": [
    "## Delete IAM Role"
   ]
  },
  {
   "cell_type": "code",
   "execution_count": 15,
   "id": "1be72945-1002-4df0-b6c6-4b62e79c1e3c",
   "metadata": {},
   "outputs": [
    {
     "data": {
      "text/plain": [
       "200"
      ]
     },
     "execution_count": 15,
     "metadata": {},
     "output_type": "execute_result"
    }
   ],
   "source": [
    "iam.detach_role_policy(RoleName=IAM_ROLE_NAME, PolicyArn=\"arn:aws:iam::aws:policy/AmazonS3ReadOnlyAccess\")\n",
    "iam.delete_role(RoleName=IAM_ROLE_NAME)['ResponseMetadata']['HTTPStatusCode']"
   ]
  },
  {
   "cell_type": "code",
   "execution_count": null,
   "id": "63e4adb1-b8c5-4b3b-a13e-5e3d6f557f2b",
   "metadata": {},
   "outputs": [],
   "source": []
  }
 ],
 "metadata": {
  "kernelspec": {
   "display_name": "Python 3 (ipykernel)",
   "language": "python",
   "name": "python3"
  },
  "language_info": {
   "codemirror_mode": {
    "name": "ipython",
    "version": 3
   },
   "file_extension": ".py",
   "mimetype": "text/x-python",
   "name": "python",
   "nbconvert_exporter": "python",
   "pygments_lexer": "ipython3",
   "version": "3.10.2"
  }
 },
 "nbformat": 4,
 "nbformat_minor": 5
}
